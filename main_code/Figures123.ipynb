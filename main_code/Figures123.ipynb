{
 "cells": [
  {
   "cell_type": "markdown",
   "metadata": {},
   "source": [
    "# OptStab Plots of Search Results"
   ]
  },
  {
   "cell_type": "code",
   "execution_count": null,
   "metadata": {
    "collapsed": false,
    "jupyter": {
     "outputs_hidden": false
    }
   },
   "outputs": [],
   "source": [
    "import os\n",
    "import os.path\n",
    "import numpy as np\n",
    "import matplotlib.pyplot as plt\n",
    "from OptStab import M, beta, iV, iV_a, iV_b, iV_c, iY\n",
    "from scipy.interpolate import interp1d\n",
    "%matplotlib inline"
   ]
  },
  {
   "cell_type": "code",
   "execution_count": null,
   "metadata": {},
   "outputs": [],
   "source": [
    "# Scale the RGB values to the [0, 1] range, which is the format matplotlib accepts.    \n",
    "def ColorScale(colors):\n",
    "    for (i,(r, g, b)) in enumerate(colors):\n",
    "        colors[i] = (r / 255., g / 255., b / 255.)\n",
    "        \n",
    "    return colors\n",
    "\n",
    "mycolors = ColorScale([3*(0,),3*(0,),3*(0,),3*(170,),3*(170,) ])\n",
    "mylinestyles = ['-','--','-.','-','--']"
   ]
  },
  {
   "cell_type": "code",
   "execution_count": null,
   "metadata": {},
   "outputs": [],
   "source": [
    "VERSION = 1\n",
    "PRESENTATION = False\n",
    "OutDir = os.path.join(os.path.pardir,'data','results')\n",
    "FIGURE_DIR = OutDir"
   ]
  },
  {
   "cell_type": "code",
   "execution_count": null,
   "metadata": {},
   "outputs": [],
   "source": [
    "with np.load(os.path.join(OutDir,'SearchResults_v'+str(VERSION)+'.npz')) as X:\n",
    "    OptCyc = X['OptCyc']\n",
    "    OptSS = X['OptSS']\n",
    "\n",
    "# check if the figure directory exists and create it if it doesn't\n",
    "if not os.path.isdir(FIGURE_DIR):\n",
    "    os.makedirs(FIGURE_DIR)\n",
    "\n",
    "with np.load(os.path.join(OutDir,'WelfareGrid_v'+str(VERSION)+'.npz')) as X:\n",
    "    b_grid, tau_grid = X['b_grid'], X['tau_grid']\n",
    "    WelfareCyc, WelfareNoCyc = X['WelfareCyc'], X['WelfareNoCyc']\n",
    "    StSt, StDevs = X['SteadyState'], X['StDevs']\n",
    "\n",
    "def myreshape(x):\n",
    "    return np.reshape(x,b_grid.shape)\n"
   ]
  },
  {
   "cell_type": "markdown",
   "metadata": {},
   "source": [
    "We can convert b into pre-tax replacement rates based on a two-worker household.  This conversion involves for solving for x in $$(x/2 + 1/2)^{1-\\tau} = b.$$  \n",
    "Which gives us\n",
    "$$x = 2b^{1/(1-\\tau)} - 1.$$  "
   ]
  },
  {
   "cell_type": "code",
   "execution_count": null,
   "metadata": {
    "collapsed": false,
    "jupyter": {
     "outputs_hidden": false
    }
   },
   "outputs": [],
   "source": [
    "def RepRate(b,tau):\n",
    "    return 2 * b **(1.0/(1-tau)) -1\n",
    "\n",
    "print '-----optimal b-----'\n",
    "print 'with cycles = {0:.{1}f}'.format(OptCyc[0],3)\n",
    "print 'without cycles = {0:.{1}f}'.format(OptSS[0],3)\n",
    "print('')\n",
    "\n",
    "print '-----optimal tau----'\n",
    "print 'with cycles = {0:.{1}f}'.format(OptCyc[1],3)\n",
    "print 'without cycles = {0:.{1}f}'.format(OptSS[1],3)\n",
    "print('')\n",
    "\n",
    "print 'pre-tax UI replacement rates with a two-earner household'\n",
    "print 'with cycles = {0:.{1}f}'.format(RepRate(OptCyc[0],OptCyc[1]),2)\n",
    "print 'without cycles = {0:.{1}f}'.format(RepRate(OptSS[0],OptSS[1]),2)\n"
   ]
  },
  {
   "cell_type": "code",
   "execution_count": null,
   "metadata": {},
   "outputs": [],
   "source": [
    "def FormatPlot(handles, xlabel=None, ylabel=None,xlims=None,xticks=None,ylims=None, yticks = None, VertLines = None):\n",
    "    ax = plt.gca()\n",
    "    ax.get_xaxis().tick_bottom()    \n",
    "    ax.get_yaxis().tick_left()  \n",
    "\n",
    "    # Shift the axis labels away from the axis\n",
    "    ax.tick_params(axis='x', pad=8)\n",
    "    ax.tick_params(axis='y', pad=8)\n",
    "\n",
    "    if xticks is None:\n",
    "        plt.xticks(fontsize=14,family='sans-serif')\n",
    "    else:\n",
    "        plt.xticks(xticks, [str(x)  for x in xticks], fontsize=14,family='sans-serif')    \n",
    "\n",
    "    if yticks is None:\n",
    "        plt.yticks(fontsize=14,family='sans-serif')\n",
    "    else:\n",
    "        plt.yticks(yticks, [str(x)  for x in yticks], fontsize=14,family='sans-serif')    \n",
    "\n",
    "    if xlims is not None:\n",
    "        plt.xlim(xlims)\n",
    "\n",
    "    if ylims is not None:\n",
    "        plt.ylim(ylims)\n",
    "\n",
    "\n",
    "    if xlabel is not None:\n",
    "        plt.xlabel(xlabel,fontsize = 14,family='serif')\n",
    "   \n",
    "    if ylabel is not None:\n",
    "        plt.ylabel(ylabel,fontsize = 14,family='serif')\n",
    "\n",
    "    if VertLines is not None:\n",
    "        ylimsasset = ax.get_ylim()\n",
    "        for v in VertLines:\n",
    "            plt.plot( [v] * 2, ylimsasset, \"--\", lw=0.5, color=\"black\", alpha=0.3)\n",
    "        plt.ylim(ylimsasset)\n",
    "        \n",
    "    for (i,h) in enumerate(handles):\n",
    "        h.set_linestyle(mylinestyles[i])\n",
    "        h.set_color(mycolors[i])\n",
    "    \n",
    "\n"
   ]
  },
  {
   "cell_type": "code",
   "execution_count": null,
   "metadata": {},
   "outputs": [],
   "source": [
    "# Plot steady state unemployment rate \n",
    "select_tau = 3\n",
    "fig = plt.figure(figsize=(5, 3))\n",
    "lines = plt.plot(b_grid[select_tau],myreshape(StSt[:,0])[select_tau])\n",
    "\n",
    "FormatPlot(lines,\n",
    "           xlabel=r'UI generosity ($b$)',\n",
    "           xlims=(b_grid[select_tau,0],b_grid[select_tau,-1]),\n",
    "           xticks=np.linspace(0.75, 0.9, 4),\n",
    "           ylims=(0.055,0.075),\n",
    "           yticks = (0.055,0.06,0.065,0.070,0.075),\n",
    "           VertLines = (OptSS[0],OptCyc[0]))\n",
    "fig.savefig(os.path.join(FIGURE_DIR,'SteadyState_u_vs_b.png'),bbox_inches = 'tight')"
   ]
  },
  {
   "cell_type": "code",
   "execution_count": null,
   "metadata": {},
   "outputs": [],
   "source": [
    "# Plot relative standard deviation of job-finding rate\n",
    "select_tau = 3\n",
    "X = b_grid[select_tau]\n",
    "Y = myreshape(StDevs[:,5])[select_tau]\n",
    "Y = Y/interp1d(X,Y)(OptCyc[0])\n",
    "\n",
    "fig = plt.figure(figsize=(5, 3))\n",
    "lines = plt.plot(X,Y)\n",
    "FormatPlot(lines,\n",
    "           xlabel=r'UI generosity ($b$)',\n",
    "           ylabel='Ratio of st. deviations',\n",
    "           xlims=(b_grid[select_tau,0],b_grid[select_tau,-1]),\n",
    "           xticks=np.linspace(0.75, 0.9, 4),\n",
    "           VertLines = (OptSS[0],OptCyc[0]))\n",
    "fig.savefig(os.path.join(FIGURE_DIR,'StandardDeviation_M_vs_b.png'),bbox_inches = 'tight')"
   ]
  },
  {
   "cell_type": "code",
   "execution_count": null,
   "metadata": {},
   "outputs": [],
   "source": [
    "def MakeUnpackPlot(mode):\n",
    "    with np.load(os.path.join(OutDir,'Unpack_v'+str(VERSION)+'_param_' + mode +'_mode_fig.npz')) as X:\n",
    "        ExpectedMarginalWelfare = X['ExpectedMarginalWelfare']\n",
    "        Cov = X['Cov']\n",
    "        EdwEdx = X['EdWdxEdxdparam']\n",
    "        paramgrid = X['paramgrid'][:-1]\n",
    "\n",
    "\n",
    "    # check if the figure directory exists and create it if it doesn't\n",
    "    if not os.path.isdir(FIGURE_DIR):\n",
    "        os.makedirs(FIGURE_DIR)\n",
    "\n",
    "    if mode == 'b':\n",
    "        parind = 0\n",
    "        xlab = r'UI generosity ($b$)'\n",
    "    else:\n",
    "        parind = 1\n",
    "        xlab = r'Tax progressivity ($\\tau$)'    \n",
    "\n",
    "    # convert to marginal consumption equivalents        \n",
    "    ExpectedMarginalWelfare = (1-beta) * ExpectedMarginalWelfare\n",
    "    #--debug--\n",
    "    from OptStab import delta\n",
    "    # ExpectedMarginalWelfare[:,0] *= (1-beta*(1-delta))/(1-beta)\n",
    "    #--debug--\n",
    "    Cov = (1-beta) * Cov\n",
    "    EdwEdx = (1-beta) * EdwEdx\n",
    "\n",
    "    # first fig --------------------------\n",
    "    fig = plt.figure() \n",
    "\n",
    "    lines = plt.plot(paramgrid,np.hstack((ExpectedMarginalWelfare[:,[0,1]],\n",
    "                                          ExpectedMarginalWelfare[:,2:].sum(axis=1)[np.newaxis].T - Cov[:,2:].sum(axis=1)[np.newaxis].T,\n",
    "                                         Cov[:,2:].sum(axis=1)[np.newaxis].T)))\n",
    "\n",
    "    FormatPlot(lines,\n",
    "               xlabel=xlab,\n",
    "               ylabel='Marginal welfare gain')\n",
    "\n",
    "    L = plt.legend(lines,['Insurance', 'Incentives', 'Macro stab. E x E','Macro stab. Covariance'],fontsize = 14,bbox_to_anchor=(1.04,0.5), loc=\"center left\")\n",
    "    plt.setp(L.texts, family='serif')\n",
    "\n",
    "    fig.savefig(os.path.join(FIGURE_DIR,'UnpackFourTerms_'+mode+'.png'),bbox_inches = 'tight')\n",
    "    \n",
    "    # second fig ---------------------------\n",
    "    fig = plt.figure() \n",
    "    lines = plt.plot(paramgrid,np.hstack((ExpectedMarginalWelfare[:,2:5],\n",
    "                           ExpectedMarginalWelfare[:,5:].sum(axis=1)[np.newaxis].T)))\n",
    "    \n",
    "    FormatPlot(lines,\n",
    "               xlabel=xlab,\n",
    "               ylabel='Marginal welfare gain')\n",
    "    \n",
    "    L = plt.legend(lines,['Labor wedge','Price dispersion', 'Extensive margin', 'Idio. risk'],fontsize = 14,bbox_to_anchor=(1.04,0.5), loc=\"center left\")\n",
    "    plt.setp(L.texts, family='serif')\n",
    "    \n",
    "\n",
    "    fig.savefig(os.path.join(FIGURE_DIR,'UnpackMacro_'+mode+'.png'),bbox_inches = 'tight')"
   ]
  },
  {
   "cell_type": "code",
   "execution_count": null,
   "metadata": {},
   "outputs": [],
   "source": [
    "MakeUnpackPlot('b')"
   ]
  },
  {
   "cell_type": "code",
   "execution_count": null,
   "metadata": {},
   "outputs": [],
   "source": [
    "MakeUnpackPlot('tau')"
   ]
  },
  {
   "cell_type": "code",
   "execution_count": null,
   "metadata": {},
   "outputs": [],
   "source": []
  }
 ],
 "metadata": {
  "kernelspec": {
   "display_name": "Python 2",
   "language": "python",
   "name": "python2"
  },
  "language_info": {
   "codemirror_mode": {
    "name": "ipython",
    "version": 2
   },
   "file_extension": ".py",
   "mimetype": "text/x-python",
   "name": "python",
   "nbconvert_exporter": "python",
   "pygments_lexer": "ipython2",
   "version": "2.7.18"
  }
 },
 "nbformat": 4,
 "nbformat_minor": 4
}
